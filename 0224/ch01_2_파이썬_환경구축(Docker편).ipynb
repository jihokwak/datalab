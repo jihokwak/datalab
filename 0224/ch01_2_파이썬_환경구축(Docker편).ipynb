{
 "cells": [
  {
   "cell_type": "markdown",
   "id": "b05240fb-8fa3-4bc6-a506-c204b29af747",
   "metadata": {},
   "source": [
    "# Docker 설치 및 실행"
   ]
  },
  {
   "cell_type": "markdown",
   "id": "80de9f3e-23dc-477d-b9c2-fcb37c5e12bd",
   "metadata": {},
   "source": [
    "URL : https://www.docker.com/products/docker-desktop"
   ]
  },
  {
   "cell_type": "markdown",
   "id": "d888f559-de61-4f31-85d5-ff1c6d87bf00",
   "metadata": {},
   "source": [
    "# Docker Image 다운로드"
   ]
  },
  {
   "cell_type": "markdown",
   "id": "60ecdd35-8209-45e9-9934-0c09661cf045",
   "metadata": {},
   "source": [
    "- 맥은 terminal, 윈도우는 cmd 창을 열고 다음 명령어를 실행합니다.\n",
    "- docker 명령어를 실행할때 위치한 경로는 위치한 경로는 각자의 workspace/datalab/ 경로를 권장합니다."
   ]
  },
  {
   "cell_type": "markdown",
   "id": "1b18afe5-06dd-47f5-b8fa-4afe8ed50c60",
   "metadata": {},
   "source": [
    "```bash\n",
    "$ docker pull dantekwak/datalab-jupyter:1.0\n",
    "```"
   ]
  },
  {
   "cell_type": "markdown",
   "id": "74cfd92b-d674-4524-a908-0f1370082a90",
   "metadata": {
    "tags": []
   },
   "source": [
    "# Docker 컨테이너 실행"
   ]
  },
  {
   "cell_type": "markdown",
   "id": "403bda44-e6c3-40d5-9773-d5c15ace8114",
   "metadata": {},
   "source": [
    "* Mac 유저\n",
    "```bash\n",
    "$ docker run -d -p 8888:8888 --name jupyter -v ${PWD}:/workplace dantekwak/datalab-jupyter:1.0\n",
    "```"
   ]
  },
  {
   "cell_type": "markdown",
   "id": "778254a6-63c6-4389-a31e-4fae9024ba68",
   "metadata": {},
   "source": [
    "* Windows 유저\n",
    "```bash\n",
    "$ docker run -d -p 8888:8888 --name jupyter -v \"%cd%\":/workplace dantekwak/datalab-jupyter:1.0\n",
    "```"
   ]
  },
  {
   "cell_type": "markdown",
   "id": "49869537-c477-4f1e-ac7b-5ad6eea03510",
   "metadata": {},
   "source": [
    "# Jupyter 실행"
   ]
  },
  {
   "cell_type": "markdown",
   "id": "3e41c2ae-809e-4718-bce5-fc8504786bb8",
   "metadata": {},
   "source": [
    "* Chrome 브라우저를 열고, 주소창에 https://localhost:8888 을 입력"
   ]
  },
  {
   "cell_type": "markdown",
   "id": "cddfb02e-b439-48d9-987d-c0db7216e793",
   "metadata": {
    "tags": []
   },
   "source": [
    "# Docker 컨테이너 중지\n",
    "* Docker 컨테이너를 중지하고 싶을 때는 아래 명령어를 실행한다.\n",
    "```bash\n",
    "$ docker stop jupyter\n",
    "```"
   ]
  },
  {
   "cell_type": "markdown",
   "id": "2e874bf0-50b1-4816-9be5-c572ac9e4b16",
   "metadata": {
    "tags": []
   },
   "source": [
    "# Docker 컨테이너 재실행\n",
    "* Docker 컨테이너를 재실행하면 다시 크롬으로 주피터가 접속가능하다.\n",
    "```bash\n",
    "$ docker start jupyter\n",
    "```"
   ]
  },
  {
   "cell_type": "markdown",
   "id": "1a39b5ed-2dd8-43c8-8719-8e65dd7707b4",
   "metadata": {
    "tags": []
   },
   "source": [
    "# Docker 컨테이너 완전 삭제\n",
    "* Docker 컨테이너를 삭제하면 추후 다시 이용시, docker run 명령어로 컨테이너를 다시 생성해야한다.\n",
    "```bash\n",
    "$ docker rm jupyter\n",
    "```"
   ]
  },
  {
   "cell_type": "markdown",
   "id": "6554e40e-c3ea-481f-a265-bb40e49bf813",
   "metadata": {
    "tags": []
   },
   "source": [
    "# Docker 이미지 삭제\n",
    "* 이미지를 삭제하면, 다시 사용하고 싶은 경우, 이미지를 재생성하거나 다운로드(Push)해야 한다.\n",
    "```bash\n",
    "$ docker rmi dantekwak/datalab-jupyter:1.0\n",
    "```"
   ]
  },
  {
   "cell_type": "markdown",
   "id": "dfc3dd21-8d33-43fd-b68d-89def2a34c32",
   "metadata": {
    "tags": []
   },
   "source": [
    "# 사용자가 설치한 패키지를 Docker 이미지에 영구 적용하고 싶을 때\n",
    "* Docker 컨테이너를 중지하고 싶을 때는 아래 명령어를 실행한다.\n",
    "```bash\n",
    "$ docker commit jupyter dantekwak/datalab-jupyter:2.0 <<-- 버전을 나타내는 태그를 숫자를 변경해서 별도로 저장한다.\n",
    "```"
   ]
  }
 ],
 "metadata": {
  "kernelspec": {
   "display_name": "Python 3",
   "language": "python",
   "name": "python3"
  },
  "language_info": {
   "codemirror_mode": {
    "name": "ipython",
    "version": 3
   },
   "file_extension": ".py",
   "mimetype": "text/x-python",
   "name": "python",
   "nbconvert_exporter": "python",
   "pygments_lexer": "ipython3",
   "version": "3.8.10"
  }
 },
 "nbformat": 4,
 "nbformat_minor": 5
}